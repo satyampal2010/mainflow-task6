{
 "cells": [
  {
   "cell_type": "code",
   "execution_count": 42,
   "id": "c7236f4d-ca0f-4463-83b9-8689641194b8",
   "metadata": {},
   "outputs": [],
   "source": [
    "import pandas as pd\n",
    "import numpy as np\n",
    "import matplotlib.pyplot as plt\n",
    "import seaborn as sns\n",
    "from statsmodels.tsa.arima.model import ARIMA\n",
    "from sklearn.metrics import root_mean_squared_error, mean_absolute_percentage_error, mean_squared_error, accuracy_score, precision_score, recall_score, f1_score, confusion_matrix\n",
    "from sklearn.model_selection import train_test_split\n",
    "from sklearn.preprocessing import StandardScaler\n",
    "from sklearn.linear_model import LogisticRegression"
   ]
  },
  {
   "cell_type": "code",
   "execution_count": 2,
   "id": "f23ba6c6-17ac-4ec2-b472-d166587ab24a",
   "metadata": {},
   "outputs": [
    {
     "data": {
      "text/html": [
       "<div>\n",
       "<style scoped>\n",
       "    .dataframe tbody tr th:only-of-type {\n",
       "        vertical-align: middle;\n",
       "    }\n",
       "\n",
       "    .dataframe tbody tr th {\n",
       "        vertical-align: top;\n",
       "    }\n",
       "\n",
       "    .dataframe thead th {\n",
       "        text-align: right;\n",
       "    }\n",
       "</style>\n",
       "<table border=\"1\" class=\"dataframe\">\n",
       "  <thead>\n",
       "    <tr style=\"text-align: right;\">\n",
       "      <th></th>\n",
       "      <th>date</th>\n",
       "      <th>sales</th>\n",
       "      <th>customers</th>\n",
       "      <th>discount</th>\n",
       "      <th>temperature</th>\n",
       "    </tr>\n",
       "  </thead>\n",
       "  <tbody>\n",
       "    <tr>\n",
       "      <th>0</th>\n",
       "      <td>2020-01-01</td>\n",
       "      <td>202</td>\n",
       "      <td>49</td>\n",
       "      <td>7.40</td>\n",
       "      <td>10.3</td>\n",
       "    </tr>\n",
       "    <tr>\n",
       "      <th>1</th>\n",
       "      <td>2020-01-02</td>\n",
       "      <td>535</td>\n",
       "      <td>107</td>\n",
       "      <td>42.63</td>\n",
       "      <td>31.9</td>\n",
       "    </tr>\n",
       "    <tr>\n",
       "      <th>2</th>\n",
       "      <td>2020-01-03</td>\n",
       "      <td>960</td>\n",
       "      <td>49</td>\n",
       "      <td>35.54</td>\n",
       "      <td>27.2</td>\n",
       "    </tr>\n",
       "    <tr>\n",
       "      <th>3</th>\n",
       "      <td>2020-01-04</td>\n",
       "      <td>370</td>\n",
       "      <td>100</td>\n",
       "      <td>45.35</td>\n",
       "      <td>23.0</td>\n",
       "    </tr>\n",
       "    <tr>\n",
       "      <th>4</th>\n",
       "      <td>2020-01-05</td>\n",
       "      <td>206</td>\n",
       "      <td>42</td>\n",
       "      <td>6.62</td>\n",
       "      <td>13.8</td>\n",
       "    </tr>\n",
       "    <tr>\n",
       "      <th>...</th>\n",
       "      <td>...</td>\n",
       "      <td>...</td>\n",
       "      <td>...</td>\n",
       "      <td>...</td>\n",
       "      <td>...</td>\n",
       "    </tr>\n",
       "    <tr>\n",
       "      <th>1995</th>\n",
       "      <td>2025-06-18</td>\n",
       "      <td>448</td>\n",
       "      <td>113</td>\n",
       "      <td>28.43</td>\n",
       "      <td>36.5</td>\n",
       "    </tr>\n",
       "    <tr>\n",
       "      <th>1996</th>\n",
       "      <td>2025-06-19</td>\n",
       "      <td>214</td>\n",
       "      <td>161</td>\n",
       "      <td>2.96</td>\n",
       "      <td>38.4</td>\n",
       "    </tr>\n",
       "    <tr>\n",
       "      <th>1997</th>\n",
       "      <td>2025-06-20</td>\n",
       "      <td>797</td>\n",
       "      <td>28</td>\n",
       "      <td>31.64</td>\n",
       "      <td>24.6</td>\n",
       "    </tr>\n",
       "    <tr>\n",
       "      <th>1998</th>\n",
       "      <td>2025-06-21</td>\n",
       "      <td>422</td>\n",
       "      <td>174</td>\n",
       "      <td>38.45</td>\n",
       "      <td>31.1</td>\n",
       "    </tr>\n",
       "    <tr>\n",
       "      <th>1999</th>\n",
       "      <td>2025-06-22</td>\n",
       "      <td>667</td>\n",
       "      <td>94</td>\n",
       "      <td>49.70</td>\n",
       "      <td>35.6</td>\n",
       "    </tr>\n",
       "  </tbody>\n",
       "</table>\n",
       "<p>2000 rows × 5 columns</p>\n",
       "</div>"
      ],
      "text/plain": [
       "           date  sales  customers  discount  temperature\n",
       "0    2020-01-01    202         49      7.40         10.3\n",
       "1    2020-01-02    535        107     42.63         31.9\n",
       "2    2020-01-03    960         49     35.54         27.2\n",
       "3    2020-01-04    370        100     45.35         23.0\n",
       "4    2020-01-05    206         42      6.62         13.8\n",
       "...         ...    ...        ...       ...          ...\n",
       "1995 2025-06-18    448        113     28.43         36.5\n",
       "1996 2025-06-19    214        161      2.96         38.4\n",
       "1997 2025-06-20    797         28     31.64         24.6\n",
       "1998 2025-06-21    422        174     38.45         31.1\n",
       "1999 2025-06-22    667         94     49.70         35.6\n",
       "\n",
       "[2000 rows x 5 columns]"
      ]
     },
     "execution_count": 2,
     "metadata": {},
     "output_type": "execute_result"
    }
   ],
   "source": [
    "data = pd.read_csv(r\"C:\\Users\\satya\\Downloads\\time_series_data.csv\")\n",
    "data['date'] = pd.to_datetime(data['date'])\n",
    "data"
   ]
  },
  {
   "cell_type": "code",
   "execution_count": 3,
   "id": "3d97902f-ae26-43aa-8891-7edb6c407784",
   "metadata": {},
   "outputs": [
    {
     "data": {
      "text/plain": [
       "[<matplotlib.lines.Line2D at 0x1cffd62e7b0>]"
      ]
     },
     "execution_count": 3,
     "metadata": {},
     "output_type": "execute_result"
    },
    {
     "data": {
      "image/png": "[encoded data removed]",
      "text/plain": [
       "<Figure size 640x480 with 1 Axes>"
      ]
     },
     "metadata": {},
     "output_type": "display_data"
    }
   ],
   "source": [
    "plt.plot(data['date'], data['sales'])"
   ]
  },
  {
   "cell_type": "code",
   "execution_count": 4,
   "id": "0b15e085-c6f4-4e23-a131-9aa7c4deab5f",
   "metadata": {},
   "outputs": [],
   "source": [
    "by_weeks_sales_interval = data['sales'].rolling(7).mean()\n",
    "by_months_sales_interval = data['sales'].rolling(30).mean()"
   ]
  },
  {
   "cell_type": "code",
   "execution_count": 5,
   "id": "bc0e15e5-f324-4bbb-9a1e-5923bd7f92b6",
   "metadata": {},
   "outputs": [
    {
     "data": {
      "image/png": "[encoded data removed]",
      "text/plain": [
       "<Figure size 640x480 with 1 Axes>"
      ]
     },
     "metadata": {},
     "output_type": "display_data"
    }
   ],
   "source": [
    "plt.plot(data['date'], data['sales'], label = \"daily sales\", c='blue')\n",
    "plt.plot(data['date'], by_weeks_sales_interval, label=\"7-days average sales\", c=\"orange\")\n",
    "plt.plot(data['date'], by_months_sales_interval, label=\"30-days average sales\", c=\"red\")\n",
    "plt.show()"
   ]
  },
  {
   "cell_type": "code",
   "execution_count": 6,
   "id": "4b486c73-e0ef-426a-8774-413dfa0303f5",
   "metadata": {},
   "outputs": [],
   "source": [
    "arima = ARIMA(data['sales'], order=(2, 0, 2))"
   ]
  },
  {
   "cell_type": "code",
   "execution_count": 7,
   "id": "9bfe9c22-d2f9-4520-af3d-2f80ad8e5c04",
   "metadata": {},
   "outputs": [],
   "source": [
    "arima_fit = arima.fit()"
   ]
  },
  {
   "cell_type": "code",
   "execution_count": 8,
   "id": "81817328-3593-4def-8626-a1eb530df6e1",
   "metadata": {},
   "outputs": [
    {
     "data": {
      "text/plain": [
       "2000    572.512616\n",
       "2001    535.687077\n",
       "2002    545.380544\n",
       "2003    565.172676\n",
       "2004    533.588261\n",
       "2005    554.083514\n",
       "2006    556.679813\n",
       "2007    536.231664\n",
       "2008    558.166627\n",
       "2009    549.618036\n",
       "2010    541.104235\n",
       "2011    558.404618\n",
       "2012    545.204339\n",
       "2013    546.112321\n",
       "2014    556.236623\n",
       "2015    543.515738\n",
       "2016    549.944381\n",
       "2017    553.145467\n",
       "2018    543.914309\n",
       "2019    552.095734\n",
       "2020    550.267947\n",
       "2021    545.486230\n",
       "2022    552.680860\n",
       "2023    548.244004\n",
       "2024    547.379012\n",
       "2025    552.163262\n",
       "2026    547.249577\n",
       "2027    548.991848\n",
       "2028    551.102908\n",
       "2029    547.133263\n",
       "Name: predicted_mean, dtype: float64"
      ]
     },
     "execution_count": 8,
     "metadata": {},
     "output_type": "execute_result"
    }
   ],
   "source": [
    "forecast_step = 30\n",
    "forecast_result = arima_fit.forecast(forecast_step)\n",
    "forecast_result"
   ]
  },
  {
   "cell_type": "code",
   "execution_count": 9,
   "id": "1a87df78-6d96-4756-843c-b711ea7001a3",
   "metadata": {},
   "outputs": [
    {
     "data": {
      "text/html": [
       "<div>\n",
       "<style scoped>\n",
       "    .dataframe tbody tr th:only-of-type {\n",
       "        vertical-align: middle;\n",
       "    }\n",
       "\n",
       "    .dataframe tbody tr th {\n",
       "        vertical-align: top;\n",
       "    }\n",
       "\n",
       "    .dataframe thead th {\n",
       "        text-align: right;\n",
       "    }\n",
       "</style>\n",
       "<table border=\"1\" class=\"dataframe\">\n",
       "  <thead>\n",
       "    <tr style=\"text-align: right;\">\n",
       "      <th></th>\n",
       "      <th>future_date</th>\n",
       "      <th>predicted_sales</th>\n",
       "    </tr>\n",
       "  </thead>\n",
       "  <tbody>\n",
       "    <tr>\n",
       "      <th>0</th>\n",
       "      <td>2025-06-23</td>\n",
       "      <td>572.512616</td>\n",
       "    </tr>\n",
       "    <tr>\n",
       "      <th>1</th>\n",
       "      <td>2025-06-24</td>\n",
       "      <td>535.687077</td>\n",
       "    </tr>\n",
       "    <tr>\n",
       "      <th>2</th>\n",
       "      <td>2025-06-25</td>\n",
       "      <td>545.380544</td>\n",
       "    </tr>\n",
       "    <tr>\n",
       "      <th>3</th>\n",
       "      <td>2025-06-26</td>\n",
       "      <td>565.172676</td>\n",
       "    </tr>\n",
       "    <tr>\n",
       "      <th>4</th>\n",
       "      <td>2025-06-27</td>\n",
       "      <td>533.588261</td>\n",
       "    </tr>\n",
       "    <tr>\n",
       "      <th>5</th>\n",
       "      <td>2025-06-28</td>\n",
       "      <td>554.083514</td>\n",
       "    </tr>\n",
       "    <tr>\n",
       "      <th>6</th>\n",
       "      <td>2025-06-29</td>\n",
       "      <td>556.679813</td>\n",
       "    </tr>\n",
       "    <tr>\n",
       "      <th>7</th>\n",
       "      <td>2025-06-30</td>\n",
       "      <td>536.231664</td>\n",
       "    </tr>\n",
       "    <tr>\n",
       "      <th>8</th>\n",
       "      <td>2025-07-01</td>\n",
       "      <td>558.166627</td>\n",
       "    </tr>\n",
       "    <tr>\n",
       "      <th>9</th>\n",
       "      <td>2025-07-02</td>\n",
       "      <td>549.618036</td>\n",
       "    </tr>\n",
       "    <tr>\n",
       "      <th>10</th>\n",
       "      <td>2025-07-03</td>\n",
       "      <td>541.104235</td>\n",
       "    </tr>\n",
       "    <tr>\n",
       "      <th>11</th>\n",
       "      <td>2025-07-04</td>\n",
       "      <td>558.404618</td>\n",
       "    </tr>\n",
       "    <tr>\n",
       "      <th>12</th>\n",
       "      <td>2025-07-05</td>\n",
       "      <td>545.204339</td>\n",
       "    </tr>\n",
       "    <tr>\n",
       "      <th>13</th>\n",
       "      <td>2025-07-06</td>\n",
       "      <td>546.112321</td>\n",
       "    </tr>\n",
       "    <tr>\n",
       "      <th>14</th>\n",
       "      <td>2025-07-07</td>\n",
       "      <td>556.236623</td>\n",
       "    </tr>\n",
       "    <tr>\n",
       "      <th>15</th>\n",
       "      <td>2025-07-08</td>\n",
       "      <td>543.515738</td>\n",
       "    </tr>\n",
       "    <tr>\n",
       "      <th>16</th>\n",
       "      <td>2025-07-09</td>\n",
       "      <td>549.944381</td>\n",
       "    </tr>\n",
       "    <tr>\n",
       "      <th>17</th>\n",
       "      <td>2025-07-10</td>\n",
       "      <td>553.145467</td>\n",
       "    </tr>\n",
       "    <tr>\n",
       "      <th>18</th>\n",
       "      <td>2025-07-11</td>\n",
       "      <td>543.914309</td>\n",
       "    </tr>\n",
       "    <tr>\n",
       "      <th>19</th>\n",
       "      <td>2025-07-12</td>\n",
       "      <td>552.095734</td>\n",
       "    </tr>\n",
       "    <tr>\n",
       "      <th>20</th>\n",
       "      <td>2025-07-13</td>\n",
       "      <td>550.267947</td>\n",
       "    </tr>\n",
       "    <tr>\n",
       "      <th>21</th>\n",
       "      <td>2025-07-14</td>\n",
       "      <td>545.486230</td>\n",
       "    </tr>\n",
       "    <tr>\n",
       "      <th>22</th>\n",
       "      <td>2025-07-15</td>\n",
       "      <td>552.680860</td>\n",
       "    </tr>\n",
       "    <tr>\n",
       "      <th>23</th>\n",
       "      <td>2025-07-16</td>\n",
       "      <td>548.244004</td>\n",
       "    </tr>\n",
       "    <tr>\n",
       "      <th>24</th>\n",
       "      <td>2025-07-17</td>\n",
       "      <td>547.379012</td>\n",
       "    </tr>\n",
       "    <tr>\n",
       "      <th>25</th>\n",
       "      <td>2025-07-18</td>\n",
       "      <td>552.163262</td>\n",
       "    </tr>\n",
       "    <tr>\n",
       "      <th>26</th>\n",
       "      <td>2025-07-19</td>\n",
       "      <td>547.249577</td>\n",
       "    </tr>\n",
       "    <tr>\n",
       "      <th>27</th>\n",
       "      <td>2025-07-20</td>\n",
       "      <td>548.991848</td>\n",
       "    </tr>\n",
       "    <tr>\n",
       "      <th>28</th>\n",
       "      <td>2025-07-21</td>\n",
       "      <td>551.102908</td>\n",
       "    </tr>\n",
       "    <tr>\n",
       "      <th>29</th>\n",
       "      <td>2025-07-22</td>\n",
       "      <td>547.133263</td>\n",
       "    </tr>\n",
       "  </tbody>\n",
       "</table>\n",
       "</div>"
      ],
      "text/plain": [
       "   future_date  predicted_sales\n",
       "0   2025-06-23       572.512616\n",
       "1   2025-06-24       535.687077\n",
       "2   2025-06-25       545.380544\n",
       "3   2025-06-26       565.172676\n",
       "4   2025-06-27       533.588261\n",
       "5   2025-06-28       554.083514\n",
       "6   2025-06-29       556.679813\n",
       "7   2025-06-30       536.231664\n",
       "8   2025-07-01       558.166627\n",
       "9   2025-07-02       549.618036\n",
       "10  2025-07-03       541.104235\n",
       "11  2025-07-04       558.404618\n",
       "12  2025-07-05       545.204339\n",
       "13  2025-07-06       546.112321\n",
       "14  2025-07-07       556.236623\n",
       "15  2025-07-08       543.515738\n",
       "16  2025-07-09       549.944381\n",
       "17  2025-07-10       553.145467\n",
       "18  2025-07-11       543.914309\n",
       "19  2025-07-12       552.095734\n",
       "20  2025-07-13       550.267947\n",
       "21  2025-07-14       545.486230\n",
       "22  2025-07-15       552.680860\n",
       "23  2025-07-16       548.244004\n",
       "24  2025-07-17       547.379012\n",
       "25  2025-07-18       552.163262\n",
       "26  2025-07-19       547.249577\n",
       "27  2025-07-20       548.991848\n",
       "28  2025-07-21       551.102908\n",
       "29  2025-07-22       547.133263"
      ]
     },
     "execution_count": 9,
     "metadata": {},
     "output_type": "execute_result"
    }
   ],
   "source": [
    "data['date'] = pd.to_datetime(data['date'])\n",
    "forecast_date = pd.date_range(data['date'].iloc[-1] + pd.Timedelta(days=1), periods=forecast_step)\n",
    "forecast_df = pd.DataFrame({\n",
    "    \"future_date\" : forecast_date,\n",
    "    \"predicted_sales\" : forecast_result\n",
    "})\n",
    "forecast_df.reset_index(inplace=True)\n",
    "forecast_df = forecast_df.drop(['index'], axis=1)\n",
    "forecast_df"
   ]
  },
  {
   "cell_type": "code",
   "execution_count": 38,
   "id": "085cdf27-d083-4712-a1ec-a1a1bb26e4e5",
   "metadata": {},
   "outputs": [],
   "source": [
    "in_sample_preds = arima_fit.fittedvalues\n",
    "rmse = np.sqrt(mean_squared_error(data['sales'], in_sample_preds))"
   ]
  },
  {
   "cell_type": "code",
   "execution_count": 40,
   "id": "0a0aaa69-4d9c-4478-8e62-ec76001739c2",
   "metadata": {},
   "outputs": [
    {
     "data": {
      "text/plain": [
       "266.2783368477719"
      ]
     },
     "execution_count": 40,
     "metadata": {},
     "output_type": "execute_result"
    }
   ],
   "source": [
    "rmse"
   ]
  },
  {
   "cell_type": "markdown",
   "id": "e157f2bc-44b5-447f-bfb0-3da47415fda9",
   "metadata": {},
   "source": [
    "## Heart diseases prediction"
   ]
  },
  {
   "cell_type": "code",
   "execution_count": 45,
   "id": "2422d687-e440-449a-9501-5b7cb8ebb57a",
   "metadata": {},
   "outputs": [
    {
     "name": "stdout",
     "output_type": "stream",
     "text": [
      "   Patient_Age  Cholesterol_Level  Blood_Pressure  Heart_Size_cm3  \\\n",
      "0           45         240.087480             164      306.181018   \n",
      "1           24         174.938300             101      392.607146   \n",
      "2           52         206.960611             151      359.799091   \n",
      "3           72         242.579134             107      339.798773   \n",
      "4           45         295.472830             152      273.402796   \n",
      "\n",
      "   Heart_Disease  \n",
      "0              0  \n",
      "1              0  \n",
      "2              0  \n",
      "3              1  \n",
      "4              1  \n"
     ]
    }
   ],
   "source": [
    "df = pd.read_csv(\"C:/Users/satya/Downloads/heart_disease_dataset.csv\")\n",
    "print(df.head())"
   ]
  },
  {
   "cell_type": "code",
   "execution_count": 47,
   "id": "c2101018-e4ea-49de-877a-80da19806ce2",
   "metadata": {},
   "outputs": [
    {
     "name": "stdout",
     "output_type": "stream",
     "text": [
      "Missing Values:\n",
      " Patient_Age          0\n",
      "Cholesterol_Level    0\n",
      "Blood_Pressure       0\n",
      "Heart_Size_cm3       0\n",
      "Heart_Disease        0\n",
      "dtype: int64\n",
      "Duplicate Rows: 0\n"
     ]
    }
   ],
   "source": [
    "# Check for missing values\n",
    "print(\"Missing Values:\\n\", df.isnull().sum())\n",
    "\n",
    "# Check for duplicate rows\n",
    "print(\"Duplicate Rows:\", df.duplicated().sum())\n",
    "\n",
    "# Remove duplicates and handle missing values\n",
    "df.drop_duplicates(inplace=True)\n",
    "df.dropna(inplace=True)"
   ]
  },
  {
   "cell_type": "code",
   "execution_count": 49,
   "id": "e017a5c3-337d-4678-a6d9-3b4dcc5fc5d1",
   "metadata": {},
   "outputs": [
    {
     "name": "stdout",
     "output_type": "stream",
     "text": [
      "   Patient_Age  Cholesterol_Level  Blood_Pressure  Heart_Size_cm3  \\\n",
      "0    -0.211930           0.363459        1.066111       -0.424789   \n",
      "1    -1.389474          -1.136382       -1.325252        1.547480   \n",
      "2     0.180585          -0.399176        0.572655        0.798791   \n",
      "3     1.302055           0.420821       -1.097503        0.342378   \n",
      "4    -0.211930           1.638521        0.610614       -1.172797   \n",
      "\n",
      "   Heart_Disease  \n",
      "0              0  \n",
      "1              0  \n",
      "2              0  \n",
      "3              1  \n",
      "4              1  \n"
     ]
    }
   ],
   "source": [
    "# Initialize StandardScaler\n",
    "scaler = StandardScaler()\n",
    "\n",
    "# Select numerical columns and apply scaling\n",
    "scaled_features = scaler.fit_transform(df[[\"Patient_Age\", \"Cholesterol_Level\", \"Blood_Pressure\", \"Heart_Size_cm3\"]])\n",
    "\n",
    "# Convert scaled features into a DataFrame\n",
    "df_scaled = pd.DataFrame(scaled_features, columns=[\"Patient_Age\", \"Cholesterol_Level\", \"Blood_Pressure\", \"Heart_Size_cm3\"])\n",
    "\n",
    "# Add the target variable back\n",
    "df_scaled[\"Heart_Disease\"] = df[\"Heart_Disease\"]\n",
    "\n",
    "# Display first 5 rows after scaling\n",
    "print(df_scaled.head())"
   ]
  },
  {
   "cell_type": "code",
   "execution_count": 51,
   "id": "0bfe6a51-0978-41a7-87b5-89a195db7246",
   "metadata": {},
   "outputs": [],
   "source": [
    "# Define features and target variable\n",
    "X = df_scaled.drop(columns=[\"Heart_Disease\"])\n",
    "y = df_scaled[\"Heart_Disease\"]\n",
    "\n",
    "# Split data: training, testing\n",
    "X_train, X_test, y_train, y_test = train_test_split(X, y, test_size=0.2, random_state=42)"
   ]
  },
  {
   "cell_type": "code",
   "execution_count": 53,
   "id": "8ea95cd2-083c-4edf-8e61-1abde462f090",
   "metadata": {},
   "outputs": [],
   "source": [
    "model = LogisticRegression()\n",
    "\n",
    "model.fit(X_train, y_train)\n",
    "\n",
    "y_pred = model.predict(X_test)\n"
   ]
  },
  {
   "cell_type": "code",
   "execution_count": 55,
   "id": "75593ef6-573c-4db8-ae6f-d780ae87e8db",
   "metadata": {},
   "outputs": [
    {
     "name": "stdout",
     "output_type": "stream",
     "text": [
      "Confusion Matrix:\n",
      " [[  0 119]\n",
      " [  0 281]]\n",
      "Accuracy: 70.25%\n",
      "Precision: 70.25%\n",
      "Recall: 100.00%\n",
      "F1-score: 82.53%\n"
     ]
    }
   ],
   "source": [
    "# Calculate performance metrics\n",
    "accuracy = accuracy_score(y_test, y_pred)\n",
    "precision = precision_score(y_test, y_pred)\n",
    "recall = recall_score(y_test, y_pred)\n",
    "f1 = f1_score(y_test, y_pred)\n",
    "conf_matrix = confusion_matrix(y_test, y_pred)\n",
    "\n",
    "print(\"Confusion Matrix:\\n\", conf_matrix)\n",
    "print(f\"Accuracy: {accuracy:.2%}\")\n",
    "print(f\"Precision: {precision:.2%}\")\n",
    "print(f\"Recall: {recall:.2%}\")\n",
    "print(f\"F1-score: {f1:.2%}\")"
   ]
  },
  {
   "cell_type": "code",
   "execution_count": null,
   "id": "f6c62292-4398-4cdb-bcd3-eef321c63577",
   "metadata": {},
   "outputs": [],
   "source": []
  }
 ],
 "metadata": {
  "kernelspec": {
   "display_name": "Python [conda env:base] *",
   "language": "python",
   "name": "conda-base-py"
  },
  "language_info": {
   "codemirror_mode": {
    "name": "ipython",
    "version": 3
   },
   "file_extension": ".py",
   "mimetype": "text/x-python",
   "name": "python",
   "nbconvert_exporter": "python",
   "pygments_lexer": "ipython3",
   "version": "3.12.7"
  }
 },
 "nbformat": 4,
 "nbformat_minor": 5
}
